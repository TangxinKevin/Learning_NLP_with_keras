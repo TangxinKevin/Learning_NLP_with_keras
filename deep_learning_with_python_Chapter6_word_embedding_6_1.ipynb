{
 "cells": [
  {
   "cell_type": "markdown",
   "metadata": {},
   "source": [
    "# Using word embeddings"
   ]
  },
  {
   "cell_type": "markdown",
   "metadata": {},
   "source": [
    "Another popular and powerful way to associate a vector with a word is the use of dense \"word vectors\", also called \"word embeddings\".\n",
    "\n",
    "One-hot encoding are binary, sparse (mostly made of zeros) and very high-dimensional (same dimensionality as the number of words in the vocabulary).\n",
    "\n",
    "Word embeddings are low-dimensional floating point vectors (dense vectors). Unlike word vectors obtained via one-hot encoding, word embeddings are learned from data. It is common to see word embeddings that are 256-dimensional, 512-dimensional, or 1024-dimensional when deal with very large vocabularies."
   ]
  },
  {
   "cell_type": "markdown",
   "metadata": {},
   "source": [
    "There are two ways to obtain word embeddings:\n",
    "* Learn word embeddings jointly with the main task you care about.\n",
    "* Load into your model word embeddings that were pre-computed using a different machine learning task than the one you are trying to solve. These are called \"pre-trained word embeddings\"."
   ]
  },
  {
   "cell_type": "markdown",
   "metadata": {},
   "source": [
    "## Learning word embeddings with the <font color=\"red\"> EMBEDDING </font> layer"
   ]
  },
  {
   "cell_type": "markdown",
   "metadata": {},
   "source": [
    "It is thus reasonable to *learn* a new embedding space with every new task. Thankfully, backpropagation makes this really easy, and Keras makes it even easier. It's just about learning the weights a layer: the <font color=\"red\"> Embedding </font> layer."
   ]
  },
  {
   "cell_type": "code",
   "execution_count": 1,
   "metadata": {},
   "outputs": [
    {
     "name": "stderr",
     "output_type": "stream",
     "text": [
      "C:\\Users\\tangxin\\Anaconda3\\lib\\site-packages\\h5py\\__init__.py:36: FutureWarning: Conversion of the second argument of issubdtype from `float` to `np.floating` is deprecated. In future, it will be treated as `np.float64 == np.dtype(float).type`.\n",
      "  from ._conv import register_converters as _register_converters\n",
      "Using TensorFlow backend.\n"
     ]
    }
   ],
   "source": [
    "from keras.layers import Embedding\n",
    "\n",
    "# The embedding layer takes at least two arguments:\n",
    "# the number of possible tokens, here 1000,\n",
    "# and the dimensionality of the embeddings, here is 64.\n",
    "embedding_layer = Embedding(1000, 64)"
   ]
  },
  {
   "cell_type": "markdown",
   "metadata": {},
   "source": [
    "The *Embedding* layer is best understood as a dictionary mapping integer indicies (which stand for specific words) to dense vectors. It takes as input integers, it looks up these integers into an internal dictionary, and it returns the associated vectors. It's effectively a dictionary lookup."
   ]
  },
  {
   "cell_type": "code",
   "execution_count": 7,
   "metadata": {},
   "outputs": [
    {
     "name": "stdout",
     "output_type": "stream",
     "text": [
      "(25000,) (25000,)\n",
      "(25000,)\n"
     ]
    }
   ],
   "source": [
    "# Listing 6.6 Loading the IMDB data for use with an Embedding layer.\n",
    "from keras.datasets import imdb\n",
    "from keras import preprocessing\n",
    "\n",
    "# Number of words to consider as features\n",
    "max_features = 10000\n",
    "# Cut texts after this number of words\n",
    "# (among top max_fratures most common words)\n",
    "maxlen = 20\n",
    "\n",
    "# Load the data as lists of integers.\n",
    "(x_train, y_train), (x_test, y_test) = imdb.load_data(num_words=max_features)\n",
    "print(x_train.shape, y_train.shape)\n",
    "\n",
    "# This turns out lists of integers\n",
    "# into a 2D integer tensor of shape '(samples, maxlen)'\n",
    "x_train_new = preprocessing.sequence.pad_sequences(x_train, maxlen=maxlen)\n",
    "x_test_new = preprocessing.sequence.pad_sequences(x_test, maxlen=maxlen)\n",
    "print(x_train.shape)"
   ]
  },
  {
   "cell_type": "code",
   "execution_count": 11,
   "metadata": {},
   "outputs": [
    {
     "data": {
      "text/plain": [
       "141"
      ]
     },
     "execution_count": 11,
     "metadata": {},
     "output_type": "execute_result"
    }
   ],
   "source": [
    "len(x_train[2])"
   ]
  },
  {
   "cell_type": "code",
   "execution_count": 12,
   "metadata": {},
   "outputs": [
    {
     "data": {
      "text/plain": [
       "array([[  65,   16,   38, ...,   19,  178,   32],\n",
       "       [  23,    4, 1690, ...,   16,  145,   95],\n",
       "       [1352,   13,  191, ...,    7,  129,  113],\n",
       "       ...,\n",
       "       [  11, 1818, 7561, ...,    4, 3586,    2],\n",
       "       [  92,  401,  728, ...,   12,    9,   23],\n",
       "       [ 764,   40,    4, ...,  204,  131,    9]])"
      ]
     },
     "execution_count": 12,
     "metadata": {},
     "output_type": "execute_result"
    }
   ],
   "source": [
    "x_train_new"
   ]
  },
  {
   "cell_type": "code",
   "execution_count": 15,
   "metadata": {},
   "outputs": [
    {
     "name": "stdout",
     "output_type": "stream",
     "text": [
      "_________________________________________________________________\n",
      "Layer (type)                 Output Shape              Param #   \n",
      "=================================================================\n",
      "embedding_4 (Embedding)      (None, 20, 8)             80000     \n",
      "_________________________________________________________________\n",
      "flatten_3 (Flatten)          (None, 160)               0         \n",
      "_________________________________________________________________\n",
      "dense_3 (Dense)              (None, 1)                 161       \n",
      "=================================================================\n",
      "Total params: 80,161\n",
      "Trainable params: 80,161\n",
      "Non-trainable params: 0\n",
      "_________________________________________________________________\n",
      "Train on 20000 samples, validate on 5000 samples\n",
      "Epoch 1/10\n",
      "20000/20000 [==============================] - 6s 309us/step - loss: 0.6683 - acc: 0.6191 - val_loss: 0.6113 - val_acc: 0.7040\n",
      "Epoch 2/10\n",
      "20000/20000 [==============================] - 3s 134us/step - loss: 0.5349 - acc: 0.7539 - val_loss: 0.5196 - val_acc: 0.7334\n",
      "Epoch 3/10\n",
      "20000/20000 [==============================] - 3s 128us/step - loss: 0.4578 - acc: 0.7897 - val_loss: 0.4983 - val_acc: 0.7478\n",
      "Epoch 4/10\n",
      "20000/20000 [==============================] - 3s 132us/step - loss: 0.4209 - acc: 0.8083 - val_loss: 0.4937 - val_acc: 0.7500\n",
      "Epoch 5/10\n",
      "20000/20000 [==============================] - 3s 130us/step - loss: 0.3960 - acc: 0.8210 - val_loss: 0.4932 - val_acc: 0.7534\n",
      "Epoch 6/10\n",
      "20000/20000 [==============================] - 3s 130us/step - loss: 0.3752 - acc: 0.8331 - val_loss: 0.4970 - val_acc: 0.7538\n",
      "Epoch 7/10\n",
      "20000/20000 [==============================] - 3s 130us/step - loss: 0.3572 - acc: 0.8454 - val_loss: 0.5026 - val_acc: 0.7542\n",
      "Epoch 8/10\n",
      "20000/20000 [==============================] - 3s 129us/step - loss: 0.3400 - acc: 0.8540 - val_loss: 0.5086 - val_acc: 0.7536\n",
      "Epoch 9/10\n",
      "20000/20000 [==============================] - 3s 130us/step - loss: 0.3233 - acc: 0.8656 - val_loss: 0.5158 - val_acc: 0.7506\n",
      "Epoch 10/10\n",
      "20000/20000 [==============================] - 3s 126us/step - loss: 0.3076 - acc: 0.8736 - val_loss: 0.5243 - val_acc: 0.7500\n"
     ]
    }
   ],
   "source": [
    "# Listing 6.7 Using an Embedding layer and classifier on the IMDB data.\n",
    "from keras.models import Sequential\n",
    "from keras.layers import Flatten, Dense\n",
    "\n",
    "model = Sequential()\n",
    "# We specify the maximum input length to our Embedding layer\n",
    "# so we can later flatten the embedded inputs\n",
    "model.add(Embedding(10000, 8, input_length=maxlen)) # word embedding\n",
    "# After the Embedding layer,\n",
    "# our actrivations have shape '(samples, maxlen, 8)'.\n",
    "\n",
    "# We flatten the 3D tensor of embeddings\n",
    "# into 2D tensor of shape '(samples, maxlen * 8)'\n",
    "model.add(Flatten())\n",
    "\n",
    "# We add the classifier on top\n",
    "model.add(Dense(1, activation='sigmoid'))\n",
    "model.compile(optimizer='rmsprop', loss='binary_crossentropy', metrics=['acc'])\n",
    "model.summary()\n",
    "\n",
    "history = model.fit(x_train_new, y_train,\n",
    "                   epochs=10,\n",
    "                   batch_size=32,\n",
    "                   validation_split=0.2)"
   ]
  },
  {
   "cell_type": "markdown",
   "metadata": {},
   "source": [
    "## Using pre-trained word embeddings"
   ]
  },
  {
   "cell_type": "markdown",
   "metadata": {},
   "source": [
    "Sometimes, you have so little training data available that could never use your data alone to learn an appropriate task-specific embedding of your vocabulary."
   ]
  },
  {
   "cell_type": "markdown",
   "metadata": {},
   "source": [
    "Instead of learning word embedding jointly with the problem you want to solve, you could be loading embedding vectors from a pre-computed embedding space known to be highly structured and to exhibit useful properties - that captures generic aspects of language structure.\n",
    "\n",
    "There are various pre-computed databases of word embeddings that can download and start using in a Keras *Embedding* layer. _Word2Vec_ is one of them. Another popular one is called _\"GloVe\"_."
   ]
  },
  {
   "cell_type": "markdown",
   "metadata": {},
   "source": [
    "### put it all together: from raw text to word embeddings"
   ]
  },
  {
   "cell_type": "code",
   "execution_count": 1,
   "metadata": {},
   "outputs": [],
   "source": [
    "# Listing 6.8 Processing the labels of the raw IMDB data\n",
    "import os \n",
    "\n",
    "imdb_dir = 'D:/databases/IMDB/aclImdb'\n",
    "train_dir = os.path.join(imdb_dir, 'train')\n",
    "\n",
    "labels = []\n",
    "texts = []\n",
    "\n",
    "for label_type in ['neg', 'pos']:\n",
    "    dirname = os.path.join(train_dir, label_type)\n",
    "    for fname in os.listdir(dirname):\n",
    "        if fname[-4:] == '.txt':\n",
    "            with open(os.path.join(dirname, fname), 'r', encoding=\"utf8\") as f:\n",
    "                content = f.read()\n",
    "            texts.append(content)\n",
    "            if label_type == 'neg':\n",
    "                labels.append(0)\n",
    "            else:\n",
    "                labels.append(1)"
   ]
  },
  {
   "cell_type": "code",
   "execution_count": 2,
   "metadata": {},
   "outputs": [
    {
     "data": {
      "text/plain": [
       "\"Story of a man who has unnatural feelings for a pig. Starts out with a opening scene that is a terrific example of absurd comedy. A formal orchestra audience is turned into an insane, violent mob by the crazy chantings of it's singers. Unfortunately it stays absurd the WHOLE time with no general narrative eventually making it just too off putting. Even those from the era should be turned off. The cryptic dialogue would make Shakespeare seem easy to a third grader. On a technical level it's better than you might think with some good cinematography by future great Vilmos Zsigmond. Future stars Sally Kirkland and Frederic Forrest can be seen briefly.\""
      ]
     },
     "execution_count": 2,
     "metadata": {},
     "output_type": "execute_result"
    }
   ],
   "source": [
    "texts[0]"
   ]
  },
  {
   "cell_type": "markdown",
   "metadata": {},
   "source": [
    "### Tokenize the data"
   ]
  },
  {
   "cell_type": "code",
   "execution_count": 27,
   "metadata": {},
   "outputs": [
    {
     "name": "stdout",
     "output_type": "stream",
     "text": [
      "25000\n",
      "[62, 4, 3, 129, 34, 44, 7576, 1414, 15, 3, 4252, 514, 43, 16, 3, 633, 133, 12, 6, 3, 1301, 459, 4, 1751, 209, 3, 7693, 308, 6, 676, 80, 32, 2137, 1110, 3008, 31, 1, 929, 4, 42, 5120, 469, 9, 2665, 1751, 1, 223, 55, 16, 54, 828, 1318, 847, 228, 9, 40, 96, 122, 1484, 57, 145, 36, 1, 996, 141, 27, 676, 122, 1, 411, 59, 94, 2278, 303, 772, 5, 3, 837, 20, 3, 1755, 646, 42, 125, 71, 22, 235, 101, 16, 46, 49, 624, 31, 702, 84, 702, 378, 3493, 2, 8422, 67, 27, 107, 3348]\n",
      "9995\n",
      "Found 88582 unique tokens.\n",
      "Shape of data tensor:  (25000, 100)\n",
      "Shape of label tensor:  (25000,)\n"
     ]
    }
   ],
   "source": [
    "# Listing 6.9 Tokenizing the text of the raw IMDB data\n",
    "from keras.preprocessing.text import Tokenizer\n",
    "from keras.preprocessing.sequence import pad_sequences\n",
    "import numpy as np\n",
    "\n",
    "maxlen = 100 # We will cut reviews after 100 words\n",
    "training_samples = 5000 # We will be training on 200 samples\n",
    "validation_samples = 10000\n",
    "max_words = 10000 # we will only consider the top 10000 words in the dataset\n",
    "\n",
    "tokenizer = Tokenizer(num_words=max_words)\n",
    "tokenizer.fit_on_texts(texts)\n",
    "print(len(texts))\n",
    "sequences = tokenizer.texts_to_sequences(texts)\n",
    "print(sequences[0])\n",
    "print(max(max(sequences)))\n",
    "\n",
    "word_index = tokenizer.word_index\n",
    "#print(word_index)\n",
    "print('Found %s unique tokens.' % len(word_index))\n",
    "\n",
    "data = pad_sequences(sequences, maxlen=maxlen)\n",
    "\n",
    "labels = np.asarray(labels)\n",
    "print('Shape of data tensor: ', data.shape)\n",
    "print('Shape of label tensor: ', labels.shape)\n",
    "\n",
    "indices = np.arange(data.shape[0])\n",
    "np.random.shuffle(indices)\n",
    "data = data[indices]\n",
    "labels = labels[indices]\n",
    "\n",
    "x_train = data[:training_samples]\n",
    "y_train = labels[:training_samples]\n",
    "x_val = data[training_samples:training_samples + validation_samples]\n",
    "y_val = labels[training_samples:training_samples + validation_samples]"
   ]
  },
  {
   "cell_type": "code",
   "execution_count": 28,
   "metadata": {},
   "outputs": [
    {
     "name": "stdout",
     "output_type": "stream",
     "text": [
      "400000\n"
     ]
    }
   ],
   "source": [
    "# listing 6.10 Parsing the GloVe word embeddings file\n",
    "glove_dir = 'D:/databases/IMDB'\n",
    "\n",
    "embeddings_index = {}\n",
    "with open(os.path.join(glove_dir, 'glove.6B.100d.txt'), 'r', encoding=\"utf8\") as f:\n",
    "    content = f.readlines()\n",
    "print(len(content))\n",
    "for line in content:\n",
    "    values = line.split()\n",
    "    word = values[0]\n",
    "    coefs = np.asarray(values[1:], dtype='float32')\n",
    "    embeddings_index[word] = coefs\n",
    "\n",
    "    #print('Found %s word vectors.' % len(embeddings_index))"
   ]
  },
  {
   "cell_type": "code",
   "execution_count": 29,
   "metadata": {},
   "outputs": [
    {
     "name": "stdout",
     "output_type": "stream",
     "text": [
      "Found 400000 word vectors.\n"
     ]
    }
   ],
   "source": [
    "print('Found %s word vectors.' % len(embeddings_index))"
   ]
  },
  {
   "cell_type": "code",
   "execution_count": 30,
   "metadata": {},
   "outputs": [
    {
     "data": {
      "text/plain": [
       "100"
      ]
     },
     "execution_count": 30,
     "metadata": {},
     "output_type": "execute_result"
    }
   ],
   "source": [
    "len(embeddings_index['the'])"
   ]
  },
  {
   "cell_type": "code",
   "execution_count": 31,
   "metadata": {},
   "outputs": [],
   "source": [
    "embedding_dim = 100\n",
    "\n",
    "embedding_matrix = np.zeros((max_words, embedding_dim))\n",
    "for word, i in word_index.items():\n",
    "    embedding_vector = embeddings_index.get(word)\n",
    "    if i < max_words:\n",
    "        if embedding_vector is not None:\n",
    "            embedding_matrix[i] = embedding_vector\n",
    "    "
   ]
  },
  {
   "cell_type": "markdown",
   "metadata": {},
   "source": [
    "### Define a model"
   ]
  },
  {
   "cell_type": "code",
   "execution_count": 32,
   "metadata": {},
   "outputs": [
    {
     "name": "stdout",
     "output_type": "stream",
     "text": [
      "_________________________________________________________________\n",
      "Layer (type)                 Output Shape              Param #   \n",
      "=================================================================\n",
      "embedding_6 (Embedding)      (None, 100, 100)          1000000   \n",
      "_________________________________________________________________\n",
      "flatten_6 (Flatten)          (None, 10000)             0         \n",
      "_________________________________________________________________\n",
      "dense_11 (Dense)             (None, 32)                320032    \n",
      "_________________________________________________________________\n",
      "dense_12 (Dense)             (None, 1)                 33        \n",
      "=================================================================\n",
      "Total params: 1,320,065\n",
      "Trainable params: 1,320,065\n",
      "Non-trainable params: 0\n",
      "_________________________________________________________________\n"
     ]
    }
   ],
   "source": [
    "from keras.models import Sequential\n",
    "from keras.layers import Embedding, Flatten, Dense\n",
    "\n",
    "model = Sequential()\n",
    "model.add(Embedding(max_words, embedding_dim, input_length=maxlen))\n",
    "model.add(Flatten())\n",
    "model.add(Dense(32, activation='relu'))\n",
    "model.add(Dense(1, activation='sigmoid'))\n",
    "model.summary()"
   ]
  },
  {
   "cell_type": "code",
   "execution_count": 33,
   "metadata": {},
   "outputs": [],
   "source": [
    "### Load the glove embeddings in the model\n",
    "model.layers[0].set_weights([embedding_matrix])\n",
    "model.layers[0].trainable = False"
   ]
  },
  {
   "cell_type": "markdown",
   "metadata": {},
   "source": [
    "### Train and evaluate"
   ]
  },
  {
   "cell_type": "code",
   "execution_count": 35,
   "metadata": {},
   "outputs": [
    {
     "name": "stdout",
     "output_type": "stream",
     "text": [
      "Train on 5000 samples, validate on 10000 samples\n",
      "Epoch 1/50\n",
      "5000/5000 [==============================] - 2s 344us/step - loss: 0.2165 - acc: 0.9338 - val_loss: 1.1978 - val_acc: 0.5083\n",
      "Epoch 2/50\n",
      "5000/5000 [==============================] - 1s 275us/step - loss: 0.1350 - acc: 0.9520 - val_loss: 1.7674 - val_acc: 0.5100\n",
      "Epoch 3/50\n",
      "5000/5000 [==============================] - 1s 264us/step - loss: 0.1075 - acc: 0.9700 - val_loss: 1.3818 - val_acc: 0.5027\n",
      "Epoch 4/50\n",
      "5000/5000 [==============================] - 1s 274us/step - loss: 0.0846 - acc: 0.9738 - val_loss: 1.3234 - val_acc: 0.5043\n",
      "Epoch 5/50\n",
      "5000/5000 [==============================] - 1s 272us/step - loss: 0.0488 - acc: 0.9854 - val_loss: 1.5240 - val_acc: 0.5078\n",
      "Epoch 6/50\n",
      "5000/5000 [==============================] - 1s 268us/step - loss: 0.0543 - acc: 0.9846 - val_loss: 2.6175 - val_acc: 0.5050\n",
      "Epoch 7/50\n",
      "5000/5000 [==============================] - 1s 263us/step - loss: 0.0482 - acc: 0.9882 - val_loss: 1.7507 - val_acc: 0.5058\n",
      "Epoch 8/50\n",
      "5000/5000 [==============================] - 1s 271us/step - loss: 0.0456 - acc: 0.9868 - val_loss: 1.7841 - val_acc: 0.5088\n",
      "Epoch 9/50\n",
      "5000/5000 [==============================] - 1s 275us/step - loss: 0.0304 - acc: 0.9902 - val_loss: 1.8918 - val_acc: 0.5093\n",
      "Epoch 10/50\n",
      "5000/5000 [==============================] - 1s 276us/step - loss: 0.0424 - acc: 0.9884 - val_loss: 2.0518 - val_acc: 0.5068\n",
      "Epoch 11/50\n",
      "5000/5000 [==============================] - 1s 272us/step - loss: 0.0410 - acc: 0.9886 - val_loss: 2.1207 - val_acc: 0.5087\n",
      "Epoch 12/50\n",
      "5000/5000 [==============================] - 1s 266us/step - loss: 0.0290 - acc: 0.9926 - val_loss: 2.1987 - val_acc: 0.5047\n",
      "Epoch 13/50\n",
      "5000/5000 [==============================] - 1s 266us/step - loss: 0.0217 - acc: 0.9946 - val_loss: 2.1728 - val_acc: 0.5069\n",
      "Epoch 14/50\n",
      "5000/5000 [==============================] - 1s 275us/step - loss: 0.0413 - acc: 0.9896 - val_loss: 2.0863 - val_acc: 0.5111\n",
      "Epoch 15/50\n",
      "5000/5000 [==============================] - 1s 269us/step - loss: 0.0353 - acc: 0.9918 - val_loss: 2.2558 - val_acc: 0.5026\n",
      "Epoch 16/50\n",
      "5000/5000 [==============================] - 1s 275us/step - loss: 0.0215 - acc: 0.9948 - val_loss: 2.1684 - val_acc: 0.5115\n",
      "Epoch 17/50\n",
      "5000/5000 [==============================] - 1s 282us/step - loss: 0.0246 - acc: 0.9932 - val_loss: 2.3150 - val_acc: 0.5048\n",
      "Epoch 18/50\n",
      "5000/5000 [==============================] - 1s 260us/step - loss: 0.0221 - acc: 0.9952 - val_loss: 2.4380 - val_acc: 0.5088\n",
      "Epoch 19/50\n",
      "5000/5000 [==============================] - 1s 274us/step - loss: 0.0239 - acc: 0.9928 - val_loss: 2.3321 - val_acc: 0.5074\n",
      "Epoch 20/50\n",
      "5000/5000 [==============================] - 1s 270us/step - loss: 0.0079 - acc: 0.9984 - val_loss: 2.2908 - val_acc: 0.5096\n",
      "Epoch 21/50\n",
      "5000/5000 [==============================] - 1s 267us/step - loss: 0.0235 - acc: 0.9938 - val_loss: 2.4828 - val_acc: 0.5089\n",
      "Epoch 22/50\n",
      "5000/5000 [==============================] - 1s 272us/step - loss: 0.0175 - acc: 0.9962 - val_loss: 2.6019 - val_acc: 0.5059\n",
      "Epoch 23/50\n",
      "5000/5000 [==============================] - 1s 268us/step - loss: 0.0284 - acc: 0.9926 - val_loss: 2.5277 - val_acc: 0.5028\n",
      "Epoch 24/50\n",
      "5000/5000 [==============================] - 1s 273us/step - loss: 0.0244 - acc: 0.9952 - val_loss: 2.6447 - val_acc: 0.5081\n",
      "Epoch 25/50\n",
      "5000/5000 [==============================] - 1s 265us/step - loss: 0.0062 - acc: 0.9984 - val_loss: 2.6872 - val_acc: 0.5099\n",
      "Epoch 26/50\n",
      "5000/5000 [==============================] - 1s 265us/step - loss: 0.0126 - acc: 0.9964 - val_loss: 2.7171 - val_acc: 0.5112\n",
      "Epoch 27/50\n",
      "5000/5000 [==============================] - 1s 268us/step - loss: 0.0178 - acc: 0.9938 - val_loss: 2.7685 - val_acc: 0.5058\n",
      "Epoch 28/50\n",
      "5000/5000 [==============================] - 1s 270us/step - loss: 0.0211 - acc: 0.9954 - val_loss: 2.7963 - val_acc: 0.5113\n",
      "Epoch 29/50\n",
      "5000/5000 [==============================] - 1s 267us/step - loss: 0.0124 - acc: 0.9960 - val_loss: 2.7908 - val_acc: 0.5073\n",
      "Epoch 30/50\n",
      "5000/5000 [==============================] - 1s 272us/step - loss: 0.0024 - acc: 0.9994 - val_loss: 3.0151 - val_acc: 0.5031\n",
      "Epoch 31/50\n",
      "5000/5000 [==============================] - 1s 277us/step - loss: 0.0097 - acc: 0.9972 - val_loss: 3.1487 - val_acc: 0.5088\n",
      "Epoch 32/50\n",
      "5000/5000 [==============================] - 1s 274us/step - loss: 0.0157 - acc: 0.9964 - val_loss: 3.0441 - val_acc: 0.5103\n",
      "Epoch 33/50\n",
      "5000/5000 [==============================] - 1s 271us/step - loss: 0.0142 - acc: 0.9962 - val_loss: 3.3209 - val_acc: 0.5076\n",
      "Epoch 34/50\n",
      "5000/5000 [==============================] - 1s 264us/step - loss: 0.0229 - acc: 0.9944 - val_loss: 3.2381 - val_acc: 0.5055\n",
      "Epoch 35/50\n",
      "5000/5000 [==============================] - 1s 271us/step - loss: 0.0069 - acc: 0.9992 - val_loss: 3.1737 - val_acc: 0.5068\n",
      "Epoch 36/50\n",
      "5000/5000 [==============================] - 1s 271us/step - loss: 0.0144 - acc: 0.9964 - val_loss: 2.9325 - val_acc: 0.5046\n",
      "Epoch 37/50\n",
      "5000/5000 [==============================] - 1s 264us/step - loss: 0.0143 - acc: 0.9964 - val_loss: 3.2385 - val_acc: 0.5096\n",
      "Epoch 38/50\n",
      "5000/5000 [==============================] - 1s 277us/step - loss: 0.0219 - acc: 0.9966 - val_loss: 3.5180 - val_acc: 0.5043\n",
      "Epoch 39/50\n",
      "5000/5000 [==============================] - 1s 277us/step - loss: 0.0136 - acc: 0.9972 - val_loss: 4.4747 - val_acc: 0.5026\n",
      "Epoch 40/50\n",
      "5000/5000 [==============================] - 1s 270us/step - loss: 0.0169 - acc: 0.9970 - val_loss: 3.1015 - val_acc: 0.5066\n",
      "Epoch 41/50\n",
      "5000/5000 [==============================] - 1s 266us/step - loss: 0.0085 - acc: 0.9990 - val_loss: 3.1213 - val_acc: 0.5075\n",
      "Epoch 42/50\n",
      "5000/5000 [==============================] - 1s 277us/step - loss: 0.0140 - acc: 0.9974 - val_loss: 3.6005 - val_acc: 0.5017\n",
      "Epoch 43/50\n",
      "5000/5000 [==============================] - 1s 270us/step - loss: 0.0248 - acc: 0.9958 - val_loss: 2.9856 - val_acc: 0.5063\n",
      "Epoch 44/50\n",
      "5000/5000 [==============================] - 1s 272us/step - loss: 0.0034 - acc: 0.9988 - val_loss: 4.7451 - val_acc: 0.5080\n",
      "Epoch 45/50\n",
      "5000/5000 [==============================] - 1s 267us/step - loss: 0.0070 - acc: 0.9988 - val_loss: 3.2304 - val_acc: 0.5041\n",
      "Epoch 46/50\n",
      "5000/5000 [==============================] - 1s 265us/step - loss: 0.0240 - acc: 0.9934 - val_loss: 3.8472 - val_acc: 0.5019\n",
      "Epoch 47/50\n",
      "5000/5000 [==============================] - 1s 275us/step - loss: 0.0073 - acc: 0.9992 - val_loss: 3.7546 - val_acc: 0.4998\n",
      "Epoch 48/50\n",
      "5000/5000 [==============================] - 1s 275us/step - loss: 0.0226 - acc: 0.9954 - val_loss: 3.8826 - val_acc: 0.5060\n",
      "Epoch 49/50\n",
      "5000/5000 [==============================] - 1s 271us/step - loss: 0.0128 - acc: 0.9972 - val_loss: 3.8418 - val_acc: 0.5030\n",
      "Epoch 50/50\n",
      "5000/5000 [==============================] - 1s 266us/step - loss: 0.0336 - acc: 0.9958 - val_loss: 3.6838 - val_acc: 0.5012\n"
     ]
    }
   ],
   "source": [
    "model.compile(optimizer='rmsprop',\n",
    "             loss='binary_crossentropy',\n",
    "             metrics=['acc'])\n",
    "history = model.fit(x_train, y_train, \n",
    "                   epochs=50,\n",
    "                   batch_size=32,\n",
    "                   validation_data=(x_val, y_val))\n",
    "model.save_weights('pre_trained_glove_modell.h5')"
   ]
  },
  {
   "cell_type": "markdown",
   "metadata": {},
   "source": [
    "### Plotting results"
   ]
  },
  {
   "cell_type": "code",
   "execution_count": 36,
   "metadata": {},
   "outputs": [
    {
     "data": {
      "image/png": "[encoded data removed]",
      "text/plain": [
       "<matplotlib.figure.Figure at 0x1cb15ece358>"
      ]
     },
     "metadata": {},
     "output_type": "display_data"
    }
   ],
   "source": [
    "import matplotlib.pyplot as plt\n",
    "\n",
    "acc = history.history['acc']\n",
    "val_acc = history.history['val_acc']\n",
    "loss = history.history['loss']\n",
    "val_loss = history.history['val_loss']\n",
    "\n",
    "epochs = range(1, len(acc) + 1)\n",
    "\n",
    "plt.plot(epochs, acc, 'bo', label='Training acc')\n",
    "plt.plot(epochs, val_acc, 'b', label='Validation acc')\n",
    "plt.title('Training and validation accuracy')\n",
    "plt.legend()\n",
    "\n",
    "plt.show()\n"
   ]
  },
  {
   "cell_type": "code",
   "execution_count": 37,
   "metadata": {},
   "outputs": [
    {
     "data": {
      "image/png": "[encoded data removed]",
      "text/plain": [
       "<matplotlib.figure.Figure at 0x1c9640060b8>"
      ]
     },
     "metadata": {},
     "output_type": "display_data"
    }
   ],
   "source": [
    "plt.plot(epochs, loss, 'bo', label='Training loss')\n",
    "plt.plot(epochs, val_loss, 'b', label='Validation loss')\n",
    "plt.title('Training and validation loss')\n",
    "plt.legend()\n",
    "\n",
    "plt.show()"
   ]
  },
  {
   "cell_type": "code",
   "execution_count": null,
   "metadata": {},
   "outputs": [
    {
     "name": "stdout",
     "output_type": "stream",
     "text": [
      "_________________________________________________________________\n",
      "Layer (type)                 Output Shape              Param #   \n",
      "=================================================================\n",
      "embedding_8 (Embedding)      (None, 100, 100)          1000000   \n",
      "_________________________________________________________________\n",
      "flatten_8 (Flatten)          (None, 10000)             0         \n",
      "_________________________________________________________________\n",
      "dense_15 (Dense)             (None, 32)                320032    \n",
      "_________________________________________________________________\n",
      "dense_16 (Dense)             (None, 1)                 33        \n",
      "=================================================================\n",
      "Total params: 1,320,065\n",
      "Trainable params: 1,320,065\n",
      "Non-trainable params: 0\n",
      "_________________________________________________________________\n",
      "Train on 5000 samples, validate on 10000 samples\n",
      "Epoch 1/60\n",
      "5000/5000 [==============================] - 2s 377us/step - loss: 0.6945 - acc: 0.4914 - val_loss: 0.6935 - val_acc: 0.4921\n",
      "Epoch 2/60\n",
      "5000/5000 [==============================] - 2s 309us/step - loss: 0.4469 - acc: 0.8694 - val_loss: 0.8095 - val_acc: 0.4988\n",
      "Epoch 3/60\n",
      "5000/5000 [==============================] - 2s 312us/step - loss: 0.0629 - acc: 0.9902 - val_loss: 1.0818 - val_acc: 0.5061\n",
      "Epoch 4/60\n",
      "5000/5000 [==============================] - 2s 306us/step - loss: 0.0077 - acc: 0.9990 - val_loss: 1.3378 - val_acc: 0.4957\n",
      "Epoch 5/60\n",
      "5000/5000 [==============================] - 2s 309us/step - loss: 0.0047 - acc: 0.9996 - val_loss: 1.6224 - val_acc: 0.4945\n",
      "Epoch 6/60\n",
      "5000/5000 [==============================] - 2s 307us/step - loss: 0.0037 - acc: 0.9994 - val_loss: 1.7261 - val_acc: 0.4987\n",
      "Epoch 7/60\n",
      "5000/5000 [==============================] - 2s 301us/step - loss: 9.5576e-04 - acc: 0.9994 - val_loss: 1.8700 - val_acc: 0.4942\n",
      "Epoch 8/60\n",
      "5000/5000 [==============================] - 2s 307us/step - loss: 5.5543e-04 - acc: 0.9996 - val_loss: 2.0127 - val_acc: 0.4938\n",
      "Epoch 9/60\n",
      "5000/5000 [==============================] - 2s 311us/step - loss: 5.5531e-04 - acc: 0.9996 - val_loss: 2.0811 - val_acc: 0.4931\n",
      "Epoch 10/60\n",
      "5000/5000 [==============================] - 2s 308us/step - loss: 5.5527e-04 - acc: 0.9996 - val_loss: 2.1009 - val_acc: 0.4945\n",
      "Epoch 11/60\n",
      "5000/5000 [==============================] - 2s 307us/step - loss: 5.5533e-04 - acc: 0.9996 - val_loss: 2.1127 - val_acc: 0.4951\n",
      "Epoch 12/60\n",
      "5000/5000 [==============================] - 2s 305us/step - loss: 5.5531e-04 - acc: 0.9996 - val_loss: 2.1209 - val_acc: 0.4952\n",
      "Epoch 13/60\n",
      "5000/5000 [==============================] - 2s 309us/step - loss: 5.5525e-04 - acc: 0.9996 - val_loss: 2.1266 - val_acc: 0.4949\n",
      "Epoch 14/60\n",
      "5000/5000 [==============================] - 2s 306us/step - loss: 5.5502e-04 - acc: 0.9996 - val_loss: 2.1301 - val_acc: 0.4949\n",
      "Epoch 15/60\n",
      "5000/5000 [==============================] - 2s 317us/step - loss: 5.5531e-04 - acc: 0.9996 - val_loss: 2.1327 - val_acc: 0.4948\n",
      "Epoch 16/60\n",
      "5000/5000 [==============================] - 2s 307us/step - loss: 5.5529e-04 - acc: 0.9996 - val_loss: 2.1360 - val_acc: 0.4944\n",
      "Epoch 17/60\n",
      "5000/5000 [==============================] - 2s 315us/step - loss: 5.5497e-04 - acc: 0.9996 - val_loss: 2.1374 - val_acc: 0.4950\n",
      "Epoch 18/60\n",
      "5000/5000 [==============================] - 2s 314us/step - loss: 5.5535e-04 - acc: 0.9996 - val_loss: 2.1399 - val_acc: 0.4945\n",
      "Epoch 19/60\n",
      "4960/5000 [============================>.] - ETA: 0s - loss: 5.5980e-04 - acc: 0.9996"
     ]
    }
   ],
   "source": [
    "from keras.models import Sequential\n",
    "from keras.layers import Embedding, Flatten, Dense\n",
    "\n",
    "model = Sequential()\n",
    "model.add(Embedding(max_words, embedding_dim, input_length=maxlen))\n",
    "model.add(Flatten())\n",
    "model.add(Dense(32, activation='relu'))\n",
    "model.add(Dense(1, activation='sigmoid'))\n",
    "model.summary()\n",
    "\n",
    "model.compile(optimizer='rmsprop',\n",
    "              loss='binary_crossentropy',\n",
    "              metrics=['acc'])\n",
    "history = model.fit(x_train, y_train,\n",
    "             epochs=60,\n",
    "             batch_size=32,\n",
    "             validation_data=(x_val, y_val))\n"
   ]
  },
  {
   "cell_type": "code",
   "execution_count": 25,
   "metadata": {},
   "outputs": [
    {
     "data": {
      "image/png": "[encoded data removed]",
      "text/plain": [
       "<matplotlib.figure.Figure at 0x1c96f846a20>"
      ]
     },
     "metadata": {},
     "output_type": "display_data"
    }
   ],
   "source": [
    "acc = history.history['acc']\n",
    "val_acc = history.history['val_acc']\n",
    "loss = history.history['loss']\n",
    "val_loss = history.history['val_loss']\n",
    "\n",
    "epochs = range(1, len(acc) + 1)\n",
    "\n",
    "plt.plot(epochs, acc, 'bo', label='Training acc')\n",
    "plt.plot(epochs, val_acc, 'b', label='Validation acc')\n",
    "plt.title('Training and validation accuracy')\n",
    "plt.legend()\n",
    "\n",
    "plt.show()"
   ]
  },
  {
   "cell_type": "code",
   "execution_count": 26,
   "metadata": {},
   "outputs": [
    {
     "data": {
      "image/png": "[encoded data removed]",
      "text/plain": [
       "<matplotlib.figure.Figure at 0x1cb1aceb9e8>"
      ]
     },
     "metadata": {},
     "output_type": "display_data"
    }
   ],
   "source": [
    "plt.plot(epochs, loss, 'bo', label='Training loss')\n",
    "plt.plot(epochs, val_loss, 'b', label='Validation loss')\n",
    "plt.title('Training and validation loss')\n",
    "plt.legend()\n",
    "\n",
    "plt.show()"
   ]
  },
  {
   "cell_type": "code",
   "execution_count": null,
   "metadata": {},
   "outputs": [],
   "source": []
  }
 ],
 "metadata": {
  "kernelspec": {
   "display_name": "Python 3",
   "language": "python",
   "name": "python3"
  },
  "language_info": {
   "codemirror_mode": {
    "name": "ipython",
    "version": 3
   },
   "file_extension": ".py",
   "mimetype": "text/x-python",
   "name": "python",
   "nbconvert_exporter": "python",
   "pygments_lexer": "ipython3",
   "version": "3.6.4"
  }
 },
 "nbformat": 4,
 "nbformat_minor": 2
}
